{
 "cells": [
  {
   "cell_type": "code",
   "execution_count": 100,
   "metadata": {},
   "outputs": [],
   "source": [
    "class website:\n",
    "    def set_value(self, cta, text):\n",
    "        self.__cta = cta\n",
    "        self.__text = text\n",
    "    def get_cta(self):\n",
    "        return self.__cta\n",
    "    def get_text(self):\n",
    "        return self.__text"
   ]
  },
  {
   "cell_type": "code",
   "execution_count": 103,
   "metadata": {},
   "outputs": [],
   "source": [
    "class welcome_page(website):\n",
    "    def preview(self):\n",
    "        return self.get_cta(),  self.get_text()"
   ]
  },
  {
   "cell_type": "code",
   "execution_count": 104,
   "metadata": {},
   "outputs": [],
   "source": [
    "wp1 = welcome_page()\n",
    "wp2 = welcome_page()"
   ]
  },
  {
   "cell_type": "code",
   "execution_count": 105,
   "metadata": {},
   "outputs": [],
   "source": [
    "wp1.set_value(\"welcome\", \"everyone\") \n",
    "wp2.set_value(\"please click the button\", \"and sign up\")"
   ]
  },
  {
   "cell_type": "code",
   "execution_count": 106,
   "metadata": {},
   "outputs": [
    {
     "name": "stdout",
     "output_type": "stream",
     "text": [
      "('welcome', 'everyone')\n",
      "('please click the button', 'and sign up')\n"
     ]
    }
   ],
   "source": [
    "print(wp1.preview())\n",
    "print(wp2.preview())"
   ]
  },
  {
   "cell_type": "code",
   "execution_count": 81,
   "metadata": {},
   "outputs": [],
   "source": [
    "class last_page(website):\n",
    "    def preview(self):\n",
    "        return self.get_cta(), self.get_text()"
   ]
  },
  {
   "cell_type": "code",
   "execution_count": 82,
   "metadata": {},
   "outputs": [],
   "source": [
    "lp = last_page()"
   ]
  },
  {
   "cell_type": "code",
   "execution_count": 83,
   "metadata": {},
   "outputs": [],
   "source": [
    "lp.set_value('Thank you for visiting our store', 'bye, till next time')"
   ]
  },
  {
   "cell_type": "code",
   "execution_count": 85,
   "metadata": {},
   "outputs": [
    {
     "name": "stdout",
     "output_type": "stream",
     "text": [
      "('Thank you for visiting our store', 'bye, till next time')\n"
     ]
    }
   ],
   "source": [
    "print(lp.preview())"
   ]
  },
  {
   "cell_type": "code",
   "execution_count": null,
   "metadata": {},
   "outputs": [],
   "source": []
  }
 ],
 "metadata": {
  "kernelspec": {
   "display_name": "Python 3",
   "language": "python",
   "name": "python3"
  },
  "language_info": {
   "codemirror_mode": {
    "name": "ipython",
    "version": 3
   },
   "file_extension": ".py",
   "mimetype": "text/x-python",
   "name": "python",
   "nbconvert_exporter": "python",
   "pygments_lexer": "ipython3",
   "version": "3.7.6"
  }
 },
 "nbformat": 4,
 "nbformat_minor": 4
}
